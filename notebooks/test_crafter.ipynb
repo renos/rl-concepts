{
 "cells": [
  {
   "cell_type": "code",
   "execution_count": 1,
   "metadata": {},
   "outputs": [
    {
     "name": "stdout",
     "output_type": "stream",
     "text": [
      "['None', 'water', 'grass', 'stone', 'path', 'sand', 'tree', 'lava', 'coal', 'iron', 'diamond', 'table', 'furnace', 'player', 'cow', 'zombie', 'skeleton', 'arrow', 'plant']\n"
     ]
    }
   ],
   "source": [
    "from utils import change_pwd\n",
    "change_pwd()\n",
    "\n",
    "from crafter_description import *\n",
    "from contrib import crafter\n",
    "\n",
    "env = crafter.Env(size=(224, 224))\n",
    "env.reset()\n",
    "action_space = env.action_space"
   ]
  },
  {
   "cell_type": "code",
   "execution_count": 2,
   "metadata": {},
   "outputs": [],
   "source": [
    "obs, info = env.reset(True)"
   ]
  },
  {
   "cell_type": "code",
   "execution_count": 17,
   "metadata": {},
   "outputs": [
    {
     "data": {
      "text/plain": [
       "{'inventory': {'health': 9,\n",
       "  'food': 9,\n",
       "  'drink': 9,\n",
       "  'energy': 9,\n",
       "  'sapling': 0,\n",
       "  'wood': 0,\n",
       "  'stone': 0,\n",
       "  'coal': 0,\n",
       "  'iron': 0,\n",
       "  'diamond': 0,\n",
       "  'wood_pickaxe': 0,\n",
       "  'stone_pickaxe': 0,\n",
       "  'iron_pickaxe': 0,\n",
       "  'wood_sword': 0,\n",
       "  'stone_sword': 0,\n",
       "  'iron_sword': 0},\n",
       " 'achievements': {'collect_coal': 0,\n",
       "  'collect_diamond': 0,\n",
       "  'collect_drink': 0,\n",
       "  'collect_iron': 0,\n",
       "  'collect_sapling': 0,\n",
       "  'collect_stone': 0,\n",
       "  'collect_wood': 0,\n",
       "  'defeat_skeleton': 0,\n",
       "  'defeat_zombie': 0,\n",
       "  'eat_cow': 0,\n",
       "  'eat_plant': 0,\n",
       "  'make_iron_pickaxe': 0,\n",
       "  'make_iron_sword': 0,\n",
       "  'make_stone_pickaxe': 0,\n",
       "  'make_stone_sword': 0,\n",
       "  'make_wood_pickaxe': 0,\n",
       "  'make_wood_sword': 0,\n",
       "  'place_furnace': 0,\n",
       "  'place_plant': 0,\n",
       "  'place_stone': 0,\n",
       "  'place_table': 0,\n",
       "  'wake_up': 0},\n",
       " 'discount': 1.0,\n",
       " 'semantic': array([[6, 2, 2, ..., 2, 1, 1],\n",
       "        [2, 2, 2, ..., 1, 1, 1],\n",
       "        [2, 2, 6, ..., 1, 1, 1],\n",
       "        ...,\n",
       "        [2, 2, 2, ..., 1, 1, 1],\n",
       "        [2, 6, 3, ..., 1, 1, 1],\n",
       "        [2, 8, 3, ..., 1, 1, 5]], dtype=uint8),\n",
       " 'player_pos': array([32, 32]),\n",
       " 'player_facing': (0, 1),\n",
       " 'reward': 0.0,\n",
       " 'dead': False,\n",
       " 'unlocked': set(),\n",
       " 'action': 'noop',\n",
       " 'view': array([9, 9]),\n",
       " 'survival_reward': 0}"
      ]
     },
     "execution_count": 17,
     "metadata": {},
     "output_type": "execute_result"
    }
   ],
   "source": [
    "info"
   ]
  },
  {
   "cell_type": "code",
   "execution_count": 23,
   "metadata": {},
   "outputs": [
    {
     "data": {
      "text/plain": [
       "(array([[[0, 0, 0],\n",
       "         [0, 0, 0],\n",
       "         [0, 0, 0],\n",
       "         ...,\n",
       "         [0, 0, 0],\n",
       "         [0, 0, 0],\n",
       "         [0, 0, 0]],\n",
       " \n",
       "        [[0, 0, 0],\n",
       "         [0, 0, 0],\n",
       "         [0, 0, 0],\n",
       "         ...,\n",
       "         [0, 0, 0],\n",
       "         [0, 0, 0],\n",
       "         [0, 0, 0]],\n",
       " \n",
       "        [[0, 0, 0],\n",
       "         [0, 0, 0],\n",
       "         [0, 0, 0],\n",
       "         ...,\n",
       "         [0, 0, 0],\n",
       "         [0, 0, 0],\n",
       "         [0, 0, 0]],\n",
       " \n",
       "        ...,\n",
       " \n",
       "        [[0, 0, 0],\n",
       "         [0, 0, 0],\n",
       "         [0, 0, 0],\n",
       "         ...,\n",
       "         [0, 0, 0],\n",
       "         [0, 0, 0],\n",
       "         [0, 0, 0]],\n",
       " \n",
       "        [[0, 0, 0],\n",
       "         [0, 0, 0],\n",
       "         [0, 0, 0],\n",
       "         ...,\n",
       "         [0, 0, 0],\n",
       "         [0, 0, 0],\n",
       "         [0, 0, 0]],\n",
       " \n",
       "        [[0, 0, 0],\n",
       "         [0, 0, 0],\n",
       "         [0, 0, 0],\n",
       "         ...,\n",
       "         [0, 0, 0],\n",
       "         [0, 0, 0],\n",
       "         [0, 0, 0]]], dtype=uint8),\n",
       " 0.0,\n",
       " False,\n",
       " {'inventory': {'health': 9,\n",
       "   'food': 9,\n",
       "   'drink': 9,\n",
       "   'energy': 9,\n",
       "   'sapling': 0,\n",
       "   'wood': 0,\n",
       "   'stone': 0,\n",
       "   'coal': 0,\n",
       "   'iron': 0,\n",
       "   'diamond': 0,\n",
       "   'wood_pickaxe': 0,\n",
       "   'stone_pickaxe': 0,\n",
       "   'iron_pickaxe': 0,\n",
       "   'wood_sword': 0,\n",
       "   'stone_sword': 0,\n",
       "   'iron_sword': 0},\n",
       "  'achievements': {'collect_coal': 0,\n",
       "   'collect_diamond': 0,\n",
       "   'collect_drink': 0,\n",
       "   'collect_iron': 0,\n",
       "   'collect_sapling': 0,\n",
       "   'collect_stone': 0,\n",
       "   'collect_wood': 0,\n",
       "   'defeat_skeleton': 0,\n",
       "   'defeat_zombie': 0,\n",
       "   'eat_cow': 0,\n",
       "   'eat_plant': 0,\n",
       "   'make_iron_pickaxe': 0,\n",
       "   'make_iron_sword': 0,\n",
       "   'make_stone_pickaxe': 0,\n",
       "   'make_stone_sword': 0,\n",
       "   'make_wood_pickaxe': 0,\n",
       "   'make_wood_sword': 0,\n",
       "   'place_furnace': 0,\n",
       "   'place_plant': 0,\n",
       "   'place_stone': 0,\n",
       "   'place_table': 0,\n",
       "   'wake_up': 0},\n",
       "  'discount': 1.0,\n",
       "  'semantic': array([[6, 2, 2, ..., 2, 1, 1],\n",
       "         [2, 2, 2, ..., 1, 1, 1],\n",
       "         [2, 2, 6, ..., 1, 1, 1],\n",
       "         ...,\n",
       "         [2, 2, 2, ..., 1, 1, 1],\n",
       "         [2, 6, 3, ..., 1, 1, 1],\n",
       "         [2, 8, 3, ..., 1, 1, 5]], dtype=uint8),\n",
       "  'player_pos': array([36, 32]),\n",
       "  'player_facing': (1, 0),\n",
       "  'reward': 0.0,\n",
       "  'dead': False,\n",
       "  'unlocked': set(),\n",
       "  'action': 'move_right',\n",
       "  'view': array([9, 9]),\n",
       "  'survival_reward': 0})"
      ]
     },
     "execution_count": 23,
     "metadata": {},
     "output_type": "execute_result"
    }
   ],
   "source": [
    "env.step(2)"
   ]
  },
  {
   "cell_type": "code",
   "execution_count": 5,
   "metadata": {},
   "outputs": [
    {
     "data": {
      "text/plain": [
       "['collect_coal',\n",
       " 'collect_diamond',\n",
       " 'collect_drink',\n",
       " 'collect_iron',\n",
       " 'collect_sapling',\n",
       " 'collect_stone',\n",
       " 'collect_wood',\n",
       " 'defeat_skeleton',\n",
       " 'defeat_zombie',\n",
       " 'eat_cow',\n",
       " 'eat_plant',\n",
       " 'make_iron_pickaxe',\n",
       " 'make_iron_sword',\n",
       " 'make_stone_pickaxe',\n",
       " 'make_stone_sword',\n",
       " 'make_wood_pickaxe',\n",
       " 'make_wood_sword',\n",
       " 'place_furnace',\n",
       " 'place_plant',\n",
       " 'place_stone',\n",
       " 'place_table',\n",
       " 'wake_up']"
      ]
     },
     "execution_count": 5,
     "metadata": {},
     "output_type": "execute_result"
    }
   ],
   "source": [
    "list(info[\"achievements\"].keys())"
   ]
  },
  {
   "cell_type": "code",
   "execution_count": 3,
   "metadata": {},
   "outputs": [
    {
     "data": {
      "text/plain": [
       "'Observation (1-step):\\n- grass: west\\n- grass: east\\n- grass: north\\n- grass: south (facing)\\n\\nObservation (nearby):\\n- sand 7 steps to your north-west\\n- tree 6 steps to your north-east\\n- tree 6 steps to your north-east\\n- cow 5 steps to your south-east'"
      ]
     },
     "execution_count": 3,
     "metadata": {},
     "output_type": "execute_result"
    }
   ],
   "source": [
    "describe_env(info)"
   ]
  },
  {
   "cell_type": "code",
   "execution_count": 3,
   "metadata": {},
   "outputs": [],
   "source": [
    "def pad_and_slice_semantic_map(info):\n",
    "    view_height, view_width = info[\"view\"]\n",
    "    map_height, map_width = info[\"semantic\"].shape\n",
    "    player_y, player_x = info[\"player_pos\"]\n",
    "    \n",
    "    # Calculate padding sizes\n",
    "    pad_top = pad_bottom = view_height // 2\n",
    "    pad_left = pad_right = view_width // 2\n",
    "    \n",
    "    # Create a padded map with default values (e.g., -1)\n",
    "    padded_map = np.full((map_height + pad_top + pad_bottom, map_width + pad_left + pad_right), fill_value=-1, dtype=info[\"semantic\"].dtype)\n",
    "    \n",
    "    # Place the original semantic map into the padded map\n",
    "    padded_map[pad_top:pad_top+map_height, pad_left:pad_left+map_width] = info[\"semantic\"]\n",
    "    \n",
    "    # Calculate the slicing indexes, taking care to not exceed the padded map bounds\n",
    "    start_y = player_y + pad_top - view_height // 2\n",
    "    start_x = player_x + pad_left - view_width // 2\n",
    "    \n",
    "    # Slice the padded map to get the view\n",
    "    semantic_view = padded_map[start_y:start_y+view_height, start_x:start_x+view_width]\n",
    "    \n",
    "    return semantic_view"
   ]
  },
  {
   "cell_type": "code",
   "execution_count": 4,
   "metadata": {},
   "outputs": [],
   "source": [
    "def pad_and_slice_semantic_map(info):\n",
    "    view_height, view_width = info[\"view\"]  # Desired view size (9x7)\n",
    "    map_height, map_width = info[\"semantic\"].shape  # Original map size\n",
    "    player_y, player_x = info[\"player_pos\"]  # Player's position (y, x)\n",
    "\n",
    "    # Calculate padding sizes to ensure the view can be centered around the player\n",
    "    pad_top = pad_bottom = view_height // 2\n",
    "    pad_left = pad_right = view_width // 2\n",
    "\n",
    "    # Create a padded map with default values (e.g., -1) around the original semantic map\n",
    "    padded_map = np.full(\n",
    "        (map_height + pad_top + pad_bottom, map_width + pad_left + pad_right),\n",
    "        fill_value=-1,  # Use a distinct value to indicate out-of-bounds areas\n",
    "        dtype=info[\"semantic\"].dtype\n",
    "    )\n",
    "\n",
    "    # Insert the original semantic map into the center of the padded map\n",
    "    padded_map[pad_top:pad_top + map_height, pad_left:pad_left + map_width] = info[\"semantic\"]\n",
    "\n",
    "    # Calculate the start coordinates for slicing the padded map, ensuring we don't go out of bounds\n",
    "    start_y = info[\"player_pos\"][0] - info[\"view\"][0] // 2 + pad_top\n",
    "    end_y = info[\"player_pos\"][0] + info[\"view\"][0] // 2 + 1 + pad_top\n",
    "\n",
    "    start_x = info[\"player_pos\"][1] - info[\"view\"][1] // 2 + 1 \n",
    "    end_x = info[\"player_pos\"][1] + info[\"view\"][1] // 2\n",
    "    \n",
    "\n",
    "    # Slice the padded map to get the view centered around the player's position\n",
    "    semantic_view = padded_map[start_y:end_y, start_x:end_x]\n",
    "\n",
    "    return semantic_view"
   ]
  },
  {
   "cell_type": "code",
   "execution_count": 4,
   "metadata": {},
   "outputs": [
    {
     "data": {
      "text/plain": [
       "(9, 9)"
      ]
     },
     "execution_count": 4,
     "metadata": {},
     "output_type": "execute_result"
    }
   ],
   "source": [
    "semantic = pad_and_slice_semantic_map(info)\n",
    "semantic.shape"
   ]
  },
  {
   "cell_type": "code",
   "execution_count": 26,
   "metadata": {},
   "outputs": [],
   "source": [
    "info[\"player_pos\"] = np.array([32, 32])"
   ]
  },
  {
   "cell_type": "code",
   "execution_count": 24,
   "metadata": {},
   "outputs": [
    {
     "data": {
      "text/plain": [
       "(9, 7)"
      ]
     },
     "execution_count": 24,
     "metadata": {},
     "output_type": "execute_result"
    }
   ],
   "source": [
    "semantic.shape"
   ]
  },
  {
   "cell_type": "code",
   "execution_count": 5,
   "metadata": {},
   "outputs": [
    {
     "data": {
      "text/plain": [
       "(9, 7)"
      ]
     },
     "execution_count": 5,
     "metadata": {},
     "output_type": "execute_result"
    }
   ],
   "source": [
    "semantic = info[\"semantic\"][\n",
    "        info[\"player_pos\"][0]\n",
    "        - info[\"view\"][0] // 2 : info[\"player_pos\"][0]\n",
    "        + info[\"view\"][0] // 2\n",
    "        + 1,\n",
    "        info[\"player_pos\"][1]\n",
    "        - info[\"view\"][1] // 2\n",
    "        + 1 : info[\"player_pos\"][1]\n",
    "        + info[\"view\"][1] // 2,\n",
    "    ]\n",
    "center = np.array([info[\"view\"][0] // 2, info[\"view\"][1] // 2 - 1])\n",
    "x = np.arange(semantic.shape[1])\n",
    "y = np.arange(semantic.shape[0])\n",
    "x1, y1 = np.meshgrid(x, y)\n",
    "semantic.shape"
   ]
  },
  {
   "cell_type": "code",
   "execution_count": 12,
   "metadata": {},
   "outputs": [
    {
     "data": {
      "text/plain": [
       "{'distance': 4, 'position': (5, 0)}"
      ]
     },
     "execution_count": 12,
     "metadata": {},
     "output_type": "execute_result"
    }
   ],
   "source": [
    "info"
   ]
  },
  {
   "cell_type": "code",
   "execution_count": 28,
   "metadata": {},
   "outputs": [
    {
     "data": {
      "text/plain": [
       "(9, 7)"
      ]
     },
     "execution_count": 28,
     "metadata": {},
     "output_type": "execute_result"
    }
   ],
   "source": [
    "semantic.shape"
   ]
  },
  {
   "cell_type": "code",
   "execution_count": 6,
   "metadata": {},
   "outputs": [
    {
     "name": "stdout",
     "output_type": "stream",
     "text": [
      "grass: Position=(0, -1), Distance=1\n",
      "player: Position=(0, 0), Distance=0\n",
      "cow: Position=(3, -4), Distance=7\n"
     ]
    }
   ],
   "source": [
    "import numpy as np\n",
    "\n",
    "def find_closest_blocks(semantic_map):\n",
    "    id_to_item = ['None', 'water', 'grass', 'stone', 'path', 'sand', 'tree', 'lava', 'coal', 'iron', 'diamond', 'table', 'furnace', 'player', 'cow', 'zombie', 'skeleton', 'arrow', 'plant']\n",
    "    agent_position = (3, 4)  # Center of a 9x7 map\n",
    "    closest_positions = {item: {'distance': float('inf'), 'relative_position': None} for item in id_to_item}\n",
    "\n",
    "    for y in range(semantic_map.shape[0]):\n",
    "        for x in range(semantic_map.shape[1]):\n",
    "            block_id = semantic_map[y, x]\n",
    "            block_name = id_to_item[block_id]\n",
    "            distance = abs(agent_position[0] - x) + abs(agent_position[1] - y)\n",
    "\n",
    "            if distance < closest_positions[block_name]['distance']:\n",
    "                closest_positions[block_name]['distance'] = distance\n",
    "                # Store the relative position instead of the absolute position\n",
    "                closest_positions[block_name]['relative_position'] = (x - agent_position[0], y - agent_position[1])\n",
    "\n",
    "    # Remove entries for blocks not found and 'None' type\n",
    "    closest_positions = {k: v for k, v in closest_positions.items() if v['relative_position'] is not None and k != 'None'}\n",
    "    \n",
    "    return closest_positions\n",
    "\n",
    "# Example usage with a mock semantic map\n",
    "\n",
    "closest_blocks = find_closest_blocks(semantic)\n",
    "\n",
    "for block, info in closest_blocks.items():\n",
    "    print(f\"{block}: Position={info['relative_position']}, Distance={info['distance']}\")"
   ]
  },
  {
   "cell_type": "code",
   "execution_count": 12,
   "metadata": {},
   "outputs": [],
   "source": [
    "closest_blocks_old = closest_blocks"
   ]
  },
  {
   "cell_type": "code",
   "execution_count": null,
   "metadata": {},
   "outputs": [],
   "source": []
  },
  {
   "cell_type": "code",
   "execution_count": 7,
   "metadata": {},
   "outputs": [
    {
     "name": "stdout",
     "output_type": "stream",
     "text": [
      " grass  grass  grass  grass  grass  grass  cow \n",
      " grass  grass  grass  grass  grass  grass  grass \n",
      " grass  grass  grass  grass  grass  grass  grass \n",
      " grass  grass  grass  grass  grass  grass  grass \n",
      " grass  grass  grass  player  grass  grass  grass \n",
      " grass  grass  grass  grass  grass  grass  grass \n",
      " grass  grass  grass  grass  grass  grass  grass \n",
      " grass  grass  grass  grass  grass  grass  grass \n",
      " grass  grass  grass  grass  grass  grass  grass \n",
      "\n"
     ]
    }
   ],
   "source": [
    "result = \"\"\n",
    "for xi, yi in zip(x1.flatten(), y1.flatten()):\n",
    "    result += f\" {id_to_item[semantic[yi, xi]]} \"\n",
    "    if xi == semantic.shape[1] - 1:\n",
    "        result += \"\\n\"\n",
    "print(result)"
   ]
  },
  {
   "cell_type": "code",
   "execution_count": 8,
   "metadata": {},
   "outputs": [],
   "source": [
    "stuff = env.step(2)"
   ]
  },
  {
   "cell_type": "code",
   "execution_count": 10,
   "metadata": {},
   "outputs": [],
   "source": [
    "info = stuff[-1]"
   ]
  },
  {
   "cell_type": "code",
   "execution_count": 11,
   "metadata": {},
   "outputs": [],
   "source": [
    "semantic = pad_and_slice_semantic_map(info)"
   ]
  },
  {
   "cell_type": "code",
   "execution_count": 6,
   "metadata": {},
   "outputs": [
    {
     "data": {
      "text/plain": [
       "(9, 7)"
      ]
     },
     "execution_count": 6,
     "metadata": {},
     "output_type": "execute_result"
    }
   ],
   "source": [
    "import numpy as np\n",
    "\n",
    "# Assume find_closest_blocks is defined as in the previous message, but returns relative positions\n",
    "\n",
    "def update_relative_positions(closest_blocks, dx, dy):\n",
    "    \"\"\"\n",
    "    Update the relative positions of blocks based on player movement.\n",
    "\n",
    "    Parameters:\n",
    "    - closest_blocks: The dictionary of blocks with their relative positions and distances.\n",
    "    - dx, dy: The change in x and y positions of the player.\n",
    "\n",
    "    Returns:\n",
    "    - A new dictionary with updated relative positions.\n",
    "    \"\"\"\n",
    "    updated_blocks = {}\n",
    "    for block, info in closest_blocks.items():\n",
    "        # Update the relative position based on player movement\n",
    "        new_rel_pos = (info['relative_position'][0] - dx, info['relative_position'][1] - dy)\n",
    "        updated_blocks[block] = {'distance': info['distance'], 'relative_position': new_rel_pos}\n",
    "    return updated_blocks\n",
    "\n",
    "def merge_closest_blocks(old_blocks, new_blocks):\n",
    "    \"\"\"\n",
    "    Merge the old and new closest block information, keeping the closest.\n",
    "\n",
    "    Parameters:\n",
    "    - old_blocks: The dictionary of old blocks with their relative positions and distances.\n",
    "    - new_blocks: The dictionary of new blocks with their relative positions and distances.\n",
    "\n",
    "    Returns:\n",
    "    - A merged dictionary with the closest block information.\n",
    "    \"\"\"\n",
    "    # Copy old blocks to start with\n",
    "    merged_blocks = old_blocks.copy()\n",
    "    for block, new_info in new_blocks.items():\n",
    "        if block not in merged_blocks or new_info['distance'] < merged_blocks[block]['distance']:\n",
    "            merged_blocks[block] = new_info  # Update if closer in the new map\n",
    "    return merged_blocks\n",
    "\n",
    "# Example of how to use these functions\n",
    "\n",
    "# Assuming `old_semantic_map` is your initial semantic map and `semantic` is your new semantic map after movement\n",
    "# closest_blocks_old = find_closest_blocks(old_semantic_map)\n",
    "\n",
    "# Player movement\n",
    "dx, dy = 1,0 # Player moves to the right\n",
    "\n",
    "# Update old relative positions based on player movement\n",
    "closest_blocks_old_updated = update_relative_positions(closest_blocks_old, dx, dy)\n",
    "\n",
    "# Find closest blocks in the new map\n",
    "closest_blocks_new = find_closest_blocks(semantic)\n",
    "\n",
    "# Merge the old updated and new closest blocks information\n",
    "merged_closest_blocks = merge_closest_blocks(closest_blocks_old_updated, closest_blocks_new)\n"
   ]
  },
  {
   "cell_type": "code",
   "execution_count": null,
   "metadata": {},
   "outputs": [],
   "source": []
  },
  {
   "cell_type": "code",
   "execution_count": 7,
   "metadata": {},
   "outputs": [
    {
     "data": {
      "text/plain": [
       "array([4, 3])"
      ]
     },
     "execution_count": 7,
     "metadata": {},
     "output_type": "execute_result"
    }
   ],
   "source": [
    "center"
   ]
  },
  {
   "cell_type": "code",
   "execution_count": 1,
   "metadata": {},
   "outputs": [
    {
     "ename": "NameError",
     "evalue": "name 'env' is not defined",
     "output_type": "error",
     "traceback": [
      "\u001b[0;31m---------------------------------------------------------------------------\u001b[0m",
      "\u001b[0;31mNameError\u001b[0m                                 Traceback (most recent call last)",
      "Cell \u001b[0;32mIn[1], line 2\u001b[0m\n\u001b[1;32m      1\u001b[0m \u001b[38;5;28;01mimport\u001b[39;00m \u001b[38;5;21;01mmatplotlib\u001b[39;00m\u001b[38;5;21;01m.\u001b[39;00m\u001b[38;5;21;01mpyplot\u001b[39;00m \u001b[38;5;28;01mas\u001b[39;00m \u001b[38;5;21;01mplt\u001b[39;00m\n\u001b[0;32m----> 2\u001b[0m plt\u001b[38;5;241m.\u001b[39mimshow(\u001b[43menv\u001b[49m\u001b[38;5;241m.\u001b[39mrender())\n",
      "\u001b[0;31mNameError\u001b[0m: name 'env' is not defined"
     ]
    }
   ],
   "source": [
    "import matplotlib.pyplot as plt\n",
    "plt.imshow(env.render())"
   ]
  },
  {
   "cell_type": "code",
   "execution_count": 2,
   "metadata": {},
   "outputs": [
    {
     "ename": "NameError",
     "evalue": "name 'np' is not defined",
     "output_type": "error",
     "traceback": [
      "\u001b[0;31m---------------------------------------------------------------------------\u001b[0m",
      "\u001b[0;31mNameError\u001b[0m                                 Traceback (most recent call last)",
      "Cell \u001b[0;32mIn[2], line 1\u001b[0m\n\u001b[0;32m----> 1\u001b[0m \u001b[43mnp\u001b[49m\u001b[38;5;241m.\u001b[39munique(info[\u001b[38;5;124m\"\u001b[39m\u001b[38;5;124msemantic\u001b[39m\u001b[38;5;124m\"\u001b[39m])\n",
      "\u001b[0;31mNameError\u001b[0m: name 'np' is not defined"
     ]
    }
   ],
   "source": [
    "np.unique(info[\"semantic\"])"
   ]
  },
  {
   "cell_type": "code",
   "execution_count": 10,
   "metadata": {},
   "outputs": [
    {
     "data": {
      "text/plain": [
       "array([[2, 2, 2, ..., 2, 2, 2],\n",
       "       [2, 2, 2, ..., 2, 2, 2],\n",
       "       [2, 2, 2, ..., 2, 2, 2],\n",
       "       ...,\n",
       "       [4, 3, 3, ..., 1, 1, 1],\n",
       "       [4, 3, 3, ..., 1, 1, 5],\n",
       "       [3, 3, 3, ..., 1, 1, 5]], dtype=uint8)"
      ]
     },
     "execution_count": 10,
     "metadata": {},
     "output_type": "execute_result"
    }
   ],
   "source": [
    "info[\"semantic\"]"
   ]
  },
  {
   "cell_type": "code",
   "execution_count": 11,
   "metadata": {},
   "outputs": [
    {
     "name": "stderr",
     "output_type": "stream",
     "text": [
      "/home/renos/rl/torchrl/data/replay_buffers/samplers.py:37: UserWarning: Failed to import torchrl C++ binaries. Some modules (eg, prioritized replay buffers) may not work with your installation. If you installed TorchRL from PyPI, please report the bug on TorchRL github. If you installed TorchRL locally and/or in development mode, check that you have all the required compiling packages.\n",
      "  warnings.warn(EXTENSION_WARNING)\n",
      "/home/renos/anaconda3/envs/torchrl2/lib/python3.9/site-packages/gymnasium/core.py:311: UserWarning: \u001b[33mWARN: env.num_envs to get variables from other wrappers is deprecated and will be removed in v1.0, to get this variable you can do `env.unwrapped.num_envs` for environment variables or `env.get_wrapper_attr('num_envs')` that will search the reminding wrappers.\u001b[0m\n",
      "  logger.warn(\n",
      "/home/renos/anaconda3/envs/torchrl2/lib/python3.9/site-packages/gymnasium/core.py:311: UserWarning: \u001b[33mWARN: env.reward_space to get variables from other wrappers is deprecated and will be removed in v1.0, to get this variable you can do `env.unwrapped.reward_space` for environment variables or `env.get_wrapper_attr('reward_space')` that will search the reminding wrappers.\u001b[0m\n",
      "  logger.warn(\n"
     ]
    }
   ],
   "source": [
    "from crafter import make_base_env\n",
    "\n",
    "env = make_base_env()"
   ]
  },
  {
   "cell_type": "code",
   "execution_count": 12,
   "metadata": {},
   "outputs": [
    {
     "data": {
      "text/plain": [
       "CompositeSpec(\n",
       "    pixels: BoundedTensorSpec(\n",
       "        shape=torch.Size([224, 224, 3]),\n",
       "        space=ContinuousBox(\n",
       "            low=Tensor(shape=torch.Size([224, 224, 3]), device=cpu, dtype=torch.float32, contiguous=True),\n",
       "            high=Tensor(shape=torch.Size([224, 224, 3]), device=cpu, dtype=torch.float32, contiguous=True)),\n",
       "        device=cpu,\n",
       "        dtype=torch.float32,\n",
       "        domain=continuous),\n",
       "    semantic: BoundedTensorSpec(\n",
       "        shape=torch.Size([1, 9, 7]),\n",
       "        space=ContinuousBox(\n",
       "            low=Tensor(shape=torch.Size([1, 9, 7]), device=cpu, dtype=torch.float32, contiguous=True),\n",
       "            high=Tensor(shape=torch.Size([1, 9, 7]), device=cpu, dtype=torch.float32, contiguous=True)),\n",
       "        device=cpu,\n",
       "        dtype=torch.float32,\n",
       "        domain=continuous), device=cpu, shape=torch.Size([]))"
      ]
     },
     "execution_count": 12,
     "metadata": {},
     "output_type": "execute_result"
    }
   ],
   "source": [
    "env.observation_spec"
   ]
  },
  {
   "cell_type": "code",
   "execution_count": 13,
   "metadata": {},
   "outputs": [
    {
     "data": {
      "text/plain": [
       "CompositeSpec(\n",
       "    pixels: BoundedTensorSpec(\n",
       "        shape=torch.Size([224, 224, 3]),\n",
       "        space=ContinuousBox(\n",
       "            low=Tensor(shape=torch.Size([224, 224, 3]), device=cpu, dtype=torch.float32, contiguous=True),\n",
       "            high=Tensor(shape=torch.Size([224, 224, 3]), device=cpu, dtype=torch.float32, contiguous=True)),\n",
       "        device=cpu,\n",
       "        dtype=torch.float32,\n",
       "        domain=continuous),\n",
       "    semantic: BoundedTensorSpec(\n",
       "        shape=torch.Size([1, 9, 7]),\n",
       "        space=ContinuousBox(\n",
       "            low=Tensor(shape=torch.Size([1, 9, 7]), device=cpu, dtype=torch.float32, contiguous=True),\n",
       "            high=Tensor(shape=torch.Size([1, 9, 7]), device=cpu, dtype=torch.float32, contiguous=True)),\n",
       "        device=cpu,\n",
       "        dtype=torch.float32,\n",
       "        domain=continuous), device=cpu, shape=torch.Size([]))"
      ]
     },
     "execution_count": 13,
     "metadata": {},
     "output_type": "execute_result"
    }
   ],
   "source": [
    "env.observation_spec"
   ]
  },
  {
   "cell_type": "code",
   "execution_count": 14,
   "metadata": {},
   "outputs": [],
   "source": [
    "env.reset()\n",
    "tensordict = env.rollout(max_steps=20, policy=None)"
   ]
  },
  {
   "cell_type": "code",
   "execution_count": 2,
   "metadata": {},
   "outputs": [
    {
     "name": "stderr",
     "output_type": "stream",
     "text": [
      "/home/renos/rl/torchrl/data/replay_buffers/samplers.py:37: UserWarning: Failed to import torchrl C++ binaries. Some modules (eg, prioritized replay buffers) may not work with your installation. If you installed TorchRL from PyPI, please report the bug on TorchRL github. If you installed TorchRL locally and/or in development mode, check that you have all the required compiling packages.\n",
      "  warnings.warn(EXTENSION_WARNING)\n",
      "/home/renos/anaconda3/envs/torchrl2/lib/python3.9/site-packages/gymnasium/core.py:311: UserWarning: \u001b[33mWARN: env.num_envs to get variables from other wrappers is deprecated and will be removed in v1.0, to get this variable you can do `env.unwrapped.num_envs` for environment variables or `env.get_wrapper_attr('num_envs')` that will search the reminding wrappers.\u001b[0m\n",
      "  logger.warn(\n",
      "/home/renos/anaconda3/envs/torchrl2/lib/python3.9/site-packages/gymnasium/core.py:311: UserWarning: \u001b[33mWARN: env.reward_space to get variables from other wrappers is deprecated and will be removed in v1.0, to get this variable you can do `env.unwrapped.reward_space` for environment variables or `env.get_wrapper_attr('reward_space')` that will search the reminding wrappers.\u001b[0m\n",
      "  logger.warn(\n"
     ]
    }
   ],
   "source": [
    "from crafter import make_parallel_env_impala\n",
    "\n",
    "env = make_parallel_env_impala(\"anything\",\"all\",1, device='cpu')"
   ]
  },
  {
   "cell_type": "code",
   "execution_count": null,
   "metadata": {},
   "outputs": [],
   "source": []
  },
  {
   "cell_type": "code",
   "execution_count": 3,
   "metadata": {},
   "outputs": [
    {
     "data": {
      "text/plain": [
       "CompositeSpec(\n",
       "    pixels: BoundedTensorSpec(\n",
       "        shape=torch.Size([1, 3, 64, 64]),\n",
       "        space=ContinuousBox(\n",
       "            low=Tensor(shape=torch.Size([1, 3, 64, 64]), device=cpu, dtype=torch.float32, contiguous=False),\n",
       "            high=Tensor(shape=torch.Size([1, 3, 64, 64]), device=cpu, dtype=torch.float32, contiguous=False)),\n",
       "        device=cpu,\n",
       "        dtype=torch.float32,\n",
       "        domain=continuous),\n",
       "    visual_concepts: BoundedTensorSpec(\n",
       "        shape=torch.Size([1, 19, 9, 9]),\n",
       "        space=ContinuousBox(\n",
       "            low=Tensor(shape=torch.Size([1, 19, 9, 9]), device=cpu, dtype=torch.float32, contiguous=True),\n",
       "            high=Tensor(shape=torch.Size([1, 19, 9, 9]), device=cpu, dtype=torch.float32, contiguous=True)),\n",
       "        device=cpu,\n",
       "        dtype=torch.float32,\n",
       "        domain=continuous),\n",
       "    concepts: BoundedTensorSpec(\n",
       "        shape=torch.Size([1, 1, 26]),\n",
       "        space=ContinuousBox(\n",
       "            low=Tensor(shape=torch.Size([1, 1, 26]), device=cpu, dtype=torch.float32, contiguous=True),\n",
       "            high=Tensor(shape=torch.Size([1, 1, 26]), device=cpu, dtype=torch.float32, contiguous=True)),\n",
       "        device=cpu,\n",
       "        dtype=torch.float32,\n",
       "        domain=continuous),\n",
       "    achievements: BoundedTensorSpec(\n",
       "        shape=torch.Size([1, 1, 22]),\n",
       "        space=ContinuousBox(\n",
       "            low=Tensor(shape=torch.Size([1, 1, 22]), device=cpu, dtype=torch.float32, contiguous=True),\n",
       "            high=Tensor(shape=torch.Size([1, 1, 22]), device=cpu, dtype=torch.float32, contiguous=True)),\n",
       "        device=cpu,\n",
       "        dtype=torch.float32,\n",
       "        domain=continuous),\n",
       "    original_reward: UnboundedContinuousTensorSpec(\n",
       "        shape=torch.Size([1]),\n",
       "        space=ContinuousBox(\n",
       "            low=Tensor(shape=torch.Size([1]), device=cpu, dtype=torch.float32, contiguous=True),\n",
       "            high=Tensor(shape=torch.Size([1]), device=cpu, dtype=torch.float32, contiguous=True)),\n",
       "        device=cpu,\n",
       "        dtype=torch.float32,\n",
       "        domain=continuous),\n",
       "    episode_reward: UnboundedContinuousTensorSpec(\n",
       "        shape=torch.Size([1, 1]),\n",
       "        space=None,\n",
       "        device=cpu,\n",
       "        dtype=torch.float32,\n",
       "        domain=continuous),\n",
       "    step_count: BoundedTensorSpec(\n",
       "        shape=torch.Size([1, 1]),\n",
       "        space=ContinuousBox(\n",
       "            low=Tensor(shape=torch.Size([1, 1]), device=cpu, dtype=torch.int64, contiguous=True),\n",
       "            high=Tensor(shape=torch.Size([1, 1]), device=cpu, dtype=torch.int64, contiguous=True)),\n",
       "        device=cpu,\n",
       "        dtype=torch.int64,\n",
       "        domain=continuous), device=cpu, shape=torch.Size([1]))"
      ]
     },
     "execution_count": 3,
     "metadata": {},
     "output_type": "execute_result"
    }
   ],
   "source": [
    "env.full_observation_spec"
   ]
  },
  {
   "cell_type": "code",
   "execution_count": 2,
   "metadata": {},
   "outputs": [],
   "source": []
  },
  {
   "cell_type": "code",
   "execution_count": 4,
   "metadata": {},
   "outputs": [],
   "source": [
    "env.reset()\n",
    "tensordict = env.rollout(max_steps=1000, policy=None)"
   ]
  },
  {
   "cell_type": "code",
   "execution_count": 8,
   "metadata": {},
   "outputs": [
    {
     "data": {
      "text/plain": [
       "torch.Size([1, 186])"
      ]
     },
     "execution_count": 8,
     "metadata": {},
     "output_type": "execute_result"
    }
   ],
   "source": [
    "tensordict[\"next\", \"original_reward\"].shape"
   ]
  },
  {
   "cell_type": "code",
   "execution_count": 7,
   "metadata": {},
   "outputs": [
    {
     "data": {
      "text/plain": [
       "torch.Size([1, 186, 1])"
      ]
     },
     "execution_count": 7,
     "metadata": {},
     "output_type": "execute_result"
    }
   ],
   "source": [
    "tensordict[\"next\", \"terminated\"].squeeze(-1)"
   ]
  },
  {
   "cell_type": "code",
   "execution_count": 9,
   "metadata": {},
   "outputs": [
    {
     "data": {
      "text/plain": [
       "tensor([-0.2000])"
      ]
     },
     "execution_count": 9,
     "metadata": {},
     "output_type": "execute_result"
    }
   ],
   "source": [
    "tensordict[\"next\", \"original_reward\"][tensordict[\"next\", \"terminated\"].squeeze(-1)]"
   ]
  },
  {
   "cell_type": "code",
   "execution_count": null,
   "metadata": {},
   "outputs": [
    {
     "data": {
      "text/plain": [
       "tensor([[0., 0., 0., 0., 2., 0., 0., 0., 0., 0., 0., 0., 0., 0., 0., 0., 0., 0.,\n",
       "         2., 0., 0., 2.]])"
      ]
     },
     "execution_count": 22,
     "metadata": {},
     "output_type": "execute_result"
    }
   ],
   "source": [
    "tensordict[\"next\", \"achievements\"][tensordict[\"next\", \"terminated\"]]"
   ]
  },
  {
   "cell_type": "code",
   "execution_count": 3,
   "metadata": {},
   "outputs": [],
   "source": [
    "achievements_complete = torch.tensor([[0., 0., 0., 0., 1., 0., 0., 0., 0., 0., 0., 0., 0., 0., 0., 0., 0., 0.,\n",
    "         1., 0., 0., 0.],\n",
    "        [0., 0., 0., 0., 0., 0., 0., 0., 0., 0., 0., 0., 0., 0., 0., 0., 0., 0.,\n",
    "         0., 0., 0., 2.],\n",
    "        [0., 0., 0., 0., 1., 0., 0., 0., 0., 0., 0., 0., 0., 0., 0., 0., 0., 0.,\n",
    "         1., 0., 0., 4.],\n",
    "        [0., 0., 0., 0., 0., 0., 0., 0., 0., 0., 0., 0., 0., 0., 0., 0., 0., 0.,\n",
    "         0., 0., 0., 2.],\n",
    "        [0., 0., 0., 0., 3., 0., 1., 0., 0., 0., 0., 0., 0., 0., 0., 0., 0., 0.,\n",
    "         1., 0., 0., 3.],\n",
    "        [0., 0., 0., 0., 2., 0., 1., 0., 0., 0., 0., 0., 0., 0., 0., 0., 0., 0.,\n",
    "         1., 0., 0., 2.],\n",
    "        [0., 0., 0., 0., 1., 0., 1., 0., 0., 0., 0., 0., 0., 0., 0., 0., 0., 0.,\n",
    "         0., 0., 0., 1.],\n",
    "        [0., 0., 0., 0., 2., 0., 0., 0., 0., 0., 0., 0., 0., 0., 0., 0., 0., 0.,\n",
    "         1., 0., 0., 3.],\n",
    "        [0., 0., 0., 0., 3., 0., 0., 0., 0., 0., 0., 0., 0., 0., 0., 0., 0., 0.,\n",
    "         2., 0., 0., 2.]])"
   ]
  },
  {
   "cell_type": "code",
   "execution_count": 25,
   "metadata": {},
   "outputs": [],
   "source": [
    "def calculate_success_rate(achievements_complete):\n",
    "    achievements_bool = achievements_complete >= 1\n",
    "    # Calculate mean along the tensor, converting True/False to 1s and 0s implicitly\n",
    "    success_rate = 100.0 * achievements_bool.float().mean(dim=0)\n",
    "    return success_rate\n",
    "\n",
    "success_rate = calculate_success_rate(achievements_complete)"
   ]
  },
  {
   "cell_type": "code",
   "execution_count": 26,
   "metadata": {},
   "outputs": [],
   "source": [
    "scores = torch.exp(torch.nanmean(np.log(1 + success_rate), -1)) - 1"
   ]
  },
  {
   "cell_type": "code",
   "execution_count": 28,
   "metadata": {},
   "outputs": [
    {
     "data": {
      "text/plain": [
       "tensor([ 0.0000,  0.0000,  0.0000,  0.0000, 77.7778,  0.0000, 33.3333,  0.0000,\n",
       "         0.0000,  0.0000,  0.0000,  0.0000,  0.0000,  0.0000,  0.0000,  0.0000,\n",
       "         0.0000,  0.0000, 66.6667,  0.0000,  0.0000, 88.8889])"
      ]
     },
     "execution_count": 28,
     "metadata": {},
     "output_type": "execute_result"
    }
   ],
   "source": [
    "success_rate"
   ]
  },
  {
   "cell_type": "code",
   "execution_count": 27,
   "metadata": {},
   "outputs": [
    {
     "data": {
      "text/plain": [
       "tensor(1.1282)"
      ]
     },
     "execution_count": 27,
     "metadata": {},
     "output_type": "execute_result"
    }
   ],
   "source": [
    "scores"
   ]
  },
  {
   "cell_type": "code",
   "execution_count": null,
   "metadata": {},
   "outputs": [],
   "source": [
    "['collect_coal',\n",
    " 'collect_diamond',\n",
    " 'collect_drink',\n",
    " 'collect_iron',\n",
    " 'collect_sapling',\n",
    " 'collect_stone',\n",
    " 'collect_wood',\n",
    " 'defeat_skeleton',\n",
    " 'defeat_zombie',\n",
    " 'eat_cow',\n",
    " 'eat_plant',\n",
    " 'make_iron_pickaxe',\n",
    " 'make_iron_sword',\n",
    " 'make_stone_pickaxe',\n",
    " 'make_stone_sword',\n",
    " 'make_wood_pickaxe',\n",
    " 'make_wood_sword',\n",
    " 'place_furnace',\n",
    " 'place_plant',\n",
    " 'place_stone',\n",
    " 'place_table',\n",
    " 'wake_up']"
   ]
  },
  {
   "cell_type": "code",
   "execution_count": 20,
   "metadata": {},
   "outputs": [
    {
     "data": {
      "text/plain": [
       "tensor(0.4999)"
      ]
     },
     "execution_count": 20,
     "metadata": {},
     "output_type": "execute_result"
    }
   ],
   "source": [
    "tensordict[\"pixels\"][0,0].max()"
   ]
  },
  {
   "cell_type": "code",
   "execution_count": 8,
   "metadata": {},
   "outputs": [
    {
     "data": {
      "text/plain": [
       "torch.Size([1, 20, 4, 84, 84])"
      ]
     },
     "execution_count": 8,
     "metadata": {},
     "output_type": "execute_result"
    }
   ],
   "source": [
    "tensordict[\"pixels\"].shape"
   ]
  },
  {
   "cell_type": "code",
   "execution_count": 1,
   "metadata": {},
   "outputs": [
    {
     "ename": "NameError",
     "evalue": "name 'tensordict' is not defined",
     "output_type": "error",
     "traceback": [
      "\u001b[0;31m---------------------------------------------------------------------------\u001b[0m",
      "\u001b[0;31mNameError\u001b[0m                                 Traceback (most recent call last)",
      "Cell \u001b[0;32mIn[1], line 2\u001b[0m\n\u001b[1;32m      1\u001b[0m \u001b[38;5;28;01mimport\u001b[39;00m \u001b[38;5;21;01mmatplotlib\u001b[39;00m\u001b[38;5;21;01m.\u001b[39;00m\u001b[38;5;21;01mpyplot\u001b[39;00m \u001b[38;5;28;01mas\u001b[39;00m \u001b[38;5;21;01mplt\u001b[39;00m\n\u001b[0;32m----> 2\u001b[0m plt\u001b[38;5;241m.\u001b[39mimshow(\u001b[43mtensordict\u001b[49m[\u001b[38;5;124m\"\u001b[39m\u001b[38;5;124mpixels\u001b[39m\u001b[38;5;124m\"\u001b[39m][\u001b[38;5;241m0\u001b[39m,\u001b[38;5;241m1\u001b[39m,\u001b[38;5;241m3\u001b[39m]\u001b[38;5;241m.\u001b[39mreshape((\u001b[38;5;241m84\u001b[39m, \u001b[38;5;241m84\u001b[39m ,\u001b[38;5;241m1\u001b[39m)) \u001b[38;5;241m/\u001b[39m \u001b[38;5;241m255.\u001b[39m)\n",
      "\u001b[0;31mNameError\u001b[0m: name 'tensordict' is not defined"
     ]
    }
   ],
   "source": [
    "import matplotlib.pyplot as plt\n",
    "plt.imshow(tensordict[\"pixels\"][0,1,3].reshape((84, 84 ,1)) / 255.)"
   ]
  },
  {
   "cell_type": "code",
   "execution_count": 19,
   "metadata": {},
   "outputs": [
    {
     "ename": "AttributeError",
     "evalue": "'list' object has no attribute 'n'",
     "output_type": "error",
     "traceback": [
      "\u001b[0;31m---------------------------------------------------------------------------\u001b[0m",
      "\u001b[0;31mAttributeError\u001b[0m                            Traceback (most recent call last)",
      "Cell \u001b[0;32mIn[19], line 24\u001b[0m\n\u001b[1;32m     21\u001b[0m plt\u001b[38;5;241m.\u001b[39mclose(fig)  \u001b[38;5;66;03m# Prevent displaying a static plot\u001b[39;00m\n\u001b[1;32m     23\u001b[0m \u001b[38;5;66;03m# Save the animation as an MP4 file\u001b[39;00m\n\u001b[0;32m---> 24\u001b[0m \u001b[43mani\u001b[49m\u001b[38;5;241;43m.\u001b[39;49m\u001b[43msave\u001b[49m\u001b[43m(\u001b[49m\u001b[38;5;124;43m'\u001b[39;49m\u001b[38;5;124;43m/home/renos/rl-concepts/env_animation_frames_before.mp4\u001b[39;49m\u001b[38;5;124;43m'\u001b[39;49m\u001b[43m,\u001b[49m\u001b[43m \u001b[49m\u001b[43mwriter\u001b[49m\u001b[38;5;241;43m=\u001b[39;49m\u001b[38;5;124;43m'\u001b[39;49m\u001b[38;5;124;43mffmpeg\u001b[39;49m\u001b[38;5;124;43m'\u001b[39;49m\u001b[43m,\u001b[49m\u001b[43m \u001b[49m\u001b[43mdpi\u001b[49m\u001b[38;5;241;43m=\u001b[39;49m\u001b[38;5;241;43m80\u001b[39;49m\u001b[43m,\u001b[49m\u001b[43m \u001b[49m\u001b[43mfps\u001b[49m\u001b[38;5;241;43m=\u001b[39;49m\u001b[38;5;241;43m30\u001b[39;49m\u001b[43m)\u001b[49m\n",
      "File \u001b[0;32m~/anaconda3/envs/torchrl2/lib/python3.9/site-packages/matplotlib/animation.py:1092\u001b[0m, in \u001b[0;36mAnimation.save\u001b[0;34m(self, filename, writer, fps, dpi, codec, bitrate, extra_args, metadata, extra_anim, savefig_kwargs, progress_callback)\u001b[0m\n\u001b[1;32m   1089\u001b[0m \u001b[38;5;28;01mwith\u001b[39;00m writer\u001b[38;5;241m.\u001b[39msaving(\u001b[38;5;28mself\u001b[39m\u001b[38;5;241m.\u001b[39m_fig, filename, dpi), \\\n\u001b[1;32m   1090\u001b[0m      cbook\u001b[38;5;241m.\u001b[39m_setattr_cm(\u001b[38;5;28mself\u001b[39m\u001b[38;5;241m.\u001b[39m_fig\u001b[38;5;241m.\u001b[39mcanvas, _is_saving\u001b[38;5;241m=\u001b[39m\u001b[38;5;28;01mTrue\u001b[39;00m, manager\u001b[38;5;241m=\u001b[39m\u001b[38;5;28;01mNone\u001b[39;00m):\n\u001b[1;32m   1091\u001b[0m     \u001b[38;5;28;01mfor\u001b[39;00m anim \u001b[38;5;129;01min\u001b[39;00m all_anim:\n\u001b[0;32m-> 1092\u001b[0m         \u001b[43manim\u001b[49m\u001b[38;5;241;43m.\u001b[39;49m\u001b[43m_init_draw\u001b[49m\u001b[43m(\u001b[49m\u001b[43m)\u001b[49m  \u001b[38;5;66;03m# Clear the initial frame\u001b[39;00m\n\u001b[1;32m   1093\u001b[0m     frame_number \u001b[38;5;241m=\u001b[39m \u001b[38;5;241m0\u001b[39m\n\u001b[1;32m   1094\u001b[0m     \u001b[38;5;66;03m# TODO: Currently only FuncAnimation has a save_count\u001b[39;00m\n\u001b[1;32m   1095\u001b[0m     \u001b[38;5;66;03m#       attribute. Can we generalize this to all Animations?\u001b[39;00m\n",
      "File \u001b[0;32m~/anaconda3/envs/torchrl2/lib/python3.9/site-packages/matplotlib/animation.py:1749\u001b[0m, in \u001b[0;36mFuncAnimation._init_draw\u001b[0;34m(self)\u001b[0m\n\u001b[1;32m   1741\u001b[0m         warnings\u001b[38;5;241m.\u001b[39mwarn(\n\u001b[1;32m   1742\u001b[0m             \u001b[38;5;124m\"\u001b[39m\u001b[38;5;124mCan not start iterating the frames for the initial draw. \u001b[39m\u001b[38;5;124m\"\u001b[39m\n\u001b[1;32m   1743\u001b[0m             \u001b[38;5;124m\"\u001b[39m\u001b[38;5;124mThis can be caused by passing in a 0 length sequence \u001b[39m\u001b[38;5;124m\"\u001b[39m\n\u001b[0;32m   (...)\u001b[0m\n\u001b[1;32m   1746\u001b[0m             \u001b[38;5;124m\"\u001b[39m\u001b[38;5;124mit may be exhausted due to a previous display or save.\u001b[39m\u001b[38;5;124m\"\u001b[39m\n\u001b[1;32m   1747\u001b[0m         )\n\u001b[1;32m   1748\u001b[0m         \u001b[38;5;28;01mreturn\u001b[39;00m\n\u001b[0;32m-> 1749\u001b[0m     \u001b[38;5;28;43mself\u001b[39;49m\u001b[38;5;241;43m.\u001b[39;49m\u001b[43m_draw_frame\u001b[49m\u001b[43m(\u001b[49m\u001b[43mframe_data\u001b[49m\u001b[43m)\u001b[49m\n\u001b[1;32m   1750\u001b[0m \u001b[38;5;28;01melse\u001b[39;00m:\n\u001b[1;32m   1751\u001b[0m     \u001b[38;5;28mself\u001b[39m\u001b[38;5;241m.\u001b[39m_drawn_artists \u001b[38;5;241m=\u001b[39m \u001b[38;5;28mself\u001b[39m\u001b[38;5;241m.\u001b[39m_init_func()\n",
      "File \u001b[0;32m~/anaconda3/envs/torchrl2/lib/python3.9/site-packages/matplotlib/animation.py:1768\u001b[0m, in \u001b[0;36mFuncAnimation._draw_frame\u001b[0;34m(self, framedata)\u001b[0m\n\u001b[1;32m   1764\u001b[0m     \u001b[38;5;28mself\u001b[39m\u001b[38;5;241m.\u001b[39m_save_seq \u001b[38;5;241m=\u001b[39m \u001b[38;5;28mself\u001b[39m\u001b[38;5;241m.\u001b[39m_save_seq[\u001b[38;5;241m-\u001b[39m\u001b[38;5;28mself\u001b[39m\u001b[38;5;241m.\u001b[39m_save_count:]\n\u001b[1;32m   1766\u001b[0m \u001b[38;5;66;03m# Call the func with framedata and args. If blitting is desired,\u001b[39;00m\n\u001b[1;32m   1767\u001b[0m \u001b[38;5;66;03m# func needs to return a sequence of any artists that were modified.\u001b[39;00m\n\u001b[0;32m-> 1768\u001b[0m \u001b[38;5;28mself\u001b[39m\u001b[38;5;241m.\u001b[39m_drawn_artists \u001b[38;5;241m=\u001b[39m \u001b[38;5;28;43mself\u001b[39;49m\u001b[38;5;241;43m.\u001b[39;49m\u001b[43m_func\u001b[49m\u001b[43m(\u001b[49m\u001b[43mframedata\u001b[49m\u001b[43m,\u001b[49m\u001b[43m \u001b[49m\u001b[38;5;241;43m*\u001b[39;49m\u001b[38;5;28;43mself\u001b[39;49m\u001b[38;5;241;43m.\u001b[39;49m\u001b[43m_args\u001b[49m\u001b[43m)\u001b[49m\n\u001b[1;32m   1770\u001b[0m \u001b[38;5;28;01mif\u001b[39;00m \u001b[38;5;28mself\u001b[39m\u001b[38;5;241m.\u001b[39m_blit:\n\u001b[1;32m   1772\u001b[0m     err \u001b[38;5;241m=\u001b[39m \u001b[38;5;167;01mRuntimeError\u001b[39;00m(\u001b[38;5;124m'\u001b[39m\u001b[38;5;124mThe animation function must return a sequence \u001b[39m\u001b[38;5;124m'\u001b[39m\n\u001b[1;32m   1773\u001b[0m                        \u001b[38;5;124m'\u001b[39m\u001b[38;5;124mof Artist objects.\u001b[39m\u001b[38;5;124m'\u001b[39m)\n",
      "Cell \u001b[0;32mIn[19], line 11\u001b[0m, in \u001b[0;36mupdate\u001b[0;34m(frame)\u001b[0m\n\u001b[1;32m     10\u001b[0m \u001b[38;5;28;01mdef\u001b[39;00m \u001b[38;5;21mupdate\u001b[39m(frame):\n\u001b[0;32m---> 11\u001b[0m     action \u001b[38;5;241m=\u001b[39m random\u001b[38;5;241m.\u001b[39mrandint(\u001b[38;5;241m0\u001b[39m, \u001b[43maction_space\u001b[49m\u001b[38;5;241;43m.\u001b[39;49m\u001b[43mn\u001b[49m \u001b[38;5;241m-\u001b[39m \u001b[38;5;241m1\u001b[39m)\n\u001b[1;32m     12\u001b[0m     obs, reward, done, info \u001b[38;5;241m=\u001b[39m env\u001b[38;5;241m.\u001b[39mstep(action)\n\u001b[1;32m     13\u001b[0m     ax\u001b[38;5;241m.\u001b[39mclear()  \u001b[38;5;66;03m# Clear previous frame\u001b[39;00m\n",
      "\u001b[0;31mAttributeError\u001b[0m: 'list' object has no attribute 'n'"
     ]
    }
   ],
   "source": [
    "from matplotlib.animation import FuncAnimation\n",
    "import matplotlib.pyplot as plt\n",
    "import numpy as np\n",
    "import random\n",
    "action_space = env.action_space\n",
    "# Create a figure for plotting\n",
    "fig, ax = plt.subplots()\n",
    "\n",
    "# Function to update the plot with each frame\n",
    "def update(frame):\n",
    "    action = random.randint(0, action_space.n - 1)\n",
    "    obs, reward, done, info = env.step(action)\n",
    "    ax.clear()  # Clear previous frame\n",
    "    ax.axis('off')  # Hide axes\n",
    "    ax.imshow(env.render())  # Show current observation\n",
    "    return ax,\n",
    "\n",
    "# Create an animation\n",
    "ani = FuncAnimation(fig, update, frames=range(10), blit=False)\n",
    "\n",
    "plt.close(fig)  # Prevent displaying a static plot\n",
    "\n",
    "# Save the animation as an MP4 file\n",
    "ani.save('/home/renos/rl-concepts/env_animation_frames_before.mp4', writer='ffmpeg', dpi=80, fps=30)"
   ]
  },
  {
   "cell_type": "code",
   "execution_count": null,
   "metadata": {},
   "outputs": [],
   "source": [
    "import pickle\n",
    "\n",
    "with open('/home/renos/rl-concepts/env.pkl', 'wb') as f:\n",
    "    pickle.dump(env, f)"
   ]
  },
  {
   "cell_type": "code",
   "execution_count": null,
   "metadata": {},
   "outputs": [],
   "source": [
    "import pickle \n",
    "\n",
    "with open('/home/renos/rl-concepts/env.pkl', 'rb') as f:\n",
    "    env = pickle.load(f)"
   ]
  },
  {
   "cell_type": "code",
   "execution_count": null,
   "metadata": {},
   "outputs": [],
   "source": [
    "from matplotlib.animation import FuncAnimation\n",
    "import matplotlib.pyplot as plt\n",
    "import numpy as np\n",
    "import random\n",
    "action_space = env.action_space\n",
    "# Create a figure for plotting\n",
    "fig, ax = plt.subplots()\n",
    "\n",
    "# Function to update the plot with each frame\n",
    "def update(frame):\n",
    "    action = random.randint(0, action_space.n - 1)\n",
    "    obs, reward, done, info = env.step(action)\n",
    "    ax.clear()  # Clear previous frame\n",
    "    ax.axis('off')  # Hide axes\n",
    "    ax.imshow(env.render())  # Show current observation\n",
    "    return ax,\n",
    "\n",
    "# Create an animation\n",
    "ani = FuncAnimation(fig, update, frames=range(100), blit=False)\n",
    "\n",
    "plt.close(fig)  # Prevent displaying a static plot\n",
    "\n",
    "# Save the animation as an MP4 file\n",
    "ani.save('/home/renos/rl-concepts/env_animation_frames_after.mp4', writer='ffmpeg', dpi=80, fps=30)\n"
   ]
  },
  {
   "cell_type": "code",
   "execution_count": 1,
   "metadata": {},
   "outputs": [],
   "source": [
    "import pickle\n",
    "\n",
    "#open skill_library.pkl file\n",
    "with open('/home/renos/rl-concepts/skill_library.pkl', 'rb') as f:\n",
    "    skill_library = pickle.load(f)"
   ]
  },
  {
   "cell_type": "code",
   "execution_count": 2,
   "metadata": {},
   "outputs": [
    {
     "data": {
      "text/plain": [
       "{'CollectResource': {'skill_desc': 'Gather specified resources from the environment.',\n",
       "  'skill_param': {'resource_type': 'stone'},\n",
       "  'skill_guide': \"Use the 'Do' action while facing a stone resource with the appropriate tool (wood pickaxe) to collect stone.\"},\n",
       " 'PlaceFurniture': {'skill_desc': 'Place a piece of furniture in the environment.',\n",
       "  'skill_param': 'type of furniture',\n",
       "  'skill_guide': \"Identify a suitable location within the environment that is clear of obstacles. Use the 'Place' action with the specified furniture type to place it in the chosen location.\"},\n",
       " 'CraftItem': {'skill_desc': 'Use available resources to craft a specified item at a crafting station.',\n",
       "  'skill_param': {'item_to_craft': 'The specific item you want to craft.',\n",
       "   'required_resources': 'The resources needed to craft the item.',\n",
       "   'crafting_station': 'The location or type of crafting station required.'},\n",
       "  'skill_guide': 'To craft an item, ensure you have all the required resources in your inventory. Approach the crafting station, such as a table or furnace, and select the item you wish to craft from the available options.'},\n",
       " 'LocateResource': {'skill_desc': 'Identify and determine the location of a specified resource within the environment.',\n",
       "  'skill_param': {'resourceType': 'Iron Ore'},\n",
       "  'skill_guide': 'Use the observation details to identify any mention of Iron Ore. Move through the environment systematically, checking new areas that have not been explored yet. Pay attention to the terrain, as Iron Ore may be more common in certain areas, such as near stone formations or within caves.'},\n",
       " 'NavigateToResource': {'skill_desc': 'Move towards the specified resource using the most efficient path.',\n",
       "  'skill_param': ['resource_name',\n",
       "   'current_location',\n",
       "   'resource_location',\n",
       "   'obstacles'],\n",
       "  'skill_guide': 'Determine the relative position of the resource from your current location. Avoid obstacles and move in the cardinal direction that reduces the distance to the resource. Repeat until you reach the resource location.'},\n",
       " 'FindAndDrinkWater': {'skill_desc': 'Locate a water source and drink from it to restore thirst levels.',\n",
       "  'skill_param': {'water_source': 'The type of water source to look for, such as a lake, river, or well.'},\n",
       "  'skill_guide': \"To execute this skill, the player should explore the environment while avoiding hazards. Upon locating a water source, the player should approach it and use the 'Do' action to drink the water, ensuring they are facing the water source. This action should be repeated until the thirst level is sufficiently restored.\"},\n",
       " 'HuntAndGatherFood': {'skill_desc': 'Locate, hunt, and collect food from animals to restore food levels.',\n",
       "  'skill_param': {'targetAnimal': 'The type of animal to hunt for food.',\n",
       "   'tool': 'The tool to use for hunting if necessary.',\n",
       "   'quantity': 'The amount of food needed to restore food levels to full.'},\n",
       "  'skill_guide': 'To use this skill, identify the type of animal that can be hunted for food within the game environment. Equip the appropriate tool for hunting, if available. Approach the animal, and execute the hunting action to collect the food. Repeat the process until the desired quantity of food is obtained to restore food levels to full.'},\n",
       " 'Rest': {'skill_desc': 'Restore energy by sleeping in a safe place.',\n",
       "  'skill_param': {'location': 'A safe place free from monsters where the player can sleep undisturbed.'},\n",
       "  'skill_guide': \"To execute the Rest skill, ensure that the player character is in a location that is safe from monsters and environmental hazards. Once a safe location is confirmed, use the 'noop' action to represent the character sleeping until the energy level is fully restored.\"},\n",
       " 'CombatWithWeapon': {'skill_desc': 'Engage and defeat enemies using a weapon.',\n",
       "  'skill_param': {'weapon': 'The type of weapon to use.',\n",
       "   'target': 'The enemy to be defeated.'},\n",
       "  'skill_guide': \"To use this skill, ensure you have the specified weapon equipped. Approach the target enemy until you are within striking distance. Use the 'Do' action to attack the enemy with your weapon. Repeat the attack action until the enemy is defeated.\"},\n",
       " 'LocateAndNavigateToResource': {'skill_desc': 'Identify the location of a specified resource and move towards it.',\n",
       "  'skill_param': {'resource': 'water source'},\n",
       "  'skill_guide': 'Use the observation to identify terrain features that suggest the presence of water. Once identified, navigate towards it by choosing the most efficient path, avoiding obstacles and hostile entities.'}}"
      ]
     },
     "execution_count": 2,
     "metadata": {},
     "output_type": "execute_result"
    }
   ],
   "source": [
    "skill_library"
   ]
  }
 ],
 "metadata": {
  "kernelspec": {
   "display_name": "torchrl2",
   "language": "python",
   "name": "python3"
  },
  "language_info": {
   "codemirror_mode": {
    "name": "ipython",
    "version": 3
   },
   "file_extension": ".py",
   "mimetype": "text/x-python",
   "name": "python",
   "nbconvert_exporter": "python",
   "pygments_lexer": "ipython3",
   "version": "3.9.18"
  }
 },
 "nbformat": 4,
 "nbformat_minor": 2
}
