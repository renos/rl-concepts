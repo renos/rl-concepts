{
 "cells": [
  {
   "cell_type": "code",
   "execution_count": 1,
   "metadata": {},
   "outputs": [
    {
     "name": "stdout",
     "output_type": "stream",
     "text": [
      "[Player at (78, 103), (9, 10), Ghost at (79, 57), (9, 10), Ghost at (79, 57), (9, 10), Ghost at (79, 57), (9, 10), Ghost at (79, 57), (9, 10), PowerPill at (125, 173), (4, 7), PowerPill at (125, 173), (4, 7), PowerPill at (125, 173), (4, 7), PowerPill at (125, 173), (4, 7), Fruit at (125, 173), (9, 10), Score at (95, 187), (7, 7), Score at (95, 187), (7, 7), Score at (95, 187), (7, 7), Life at (12, 171), (7, 10), Life at (12, 171), (7, 10)]\n"
     ]
    },
    {
     "name": "stderr",
     "output_type": "stream",
     "text": [
      "A.L.E: Arcade Learning Environment (version 0.8.1+53f58b7)\n",
      "[Powered by Stella]\n"
     ]
    }
   ],
   "source": [
    "from ocatari.core import OCAtari\n",
    "import random\n",
    "import matplotlib.pyplot as plt\n",
    "import numpy as np\n",
    "#modes: \"raw\", \"\", \"image\"MsPacman\n",
    "env = OCAtari(\"MsPacmanNoFrameskip-v4\", mode=\"revised\", hud=True, render_mode=\"rgb_array\")\n",
    "print(env.max_objects)\n",
    "observation, info = env.reset()\n"
   ]
  },
  {
   "cell_type": "code",
   "execution_count": 2,
   "metadata": {},
   "outputs": [
    {
     "data": {
      "text/plain": [
       "[Player at (78, 103), (9, 10),\n",
       " Ghost at (79, 57), (9, 10),\n",
       " Ghost at (79, 57), (9, 10),\n",
       " Ghost at (79, 57), (9, 10),\n",
       " Ghost at (79, 57), (9, 10),\n",
       " PowerPill at (125, 173), (4, 7),\n",
       " PowerPill at (125, 173), (4, 7),\n",
       " PowerPill at (125, 173), (4, 7),\n",
       " PowerPill at (125, 173), (4, 7),\n",
       " Fruit at (125, 173), (9, 10),\n",
       " Score at (95, 187), (7, 7),\n",
       " Score at (95, 187), (7, 7),\n",
       " Score at (95, 187), (7, 7),\n",
       " Life at (12, 171), (7, 10),\n",
       " Life at (12, 171), (7, 10)]"
      ]
     },
     "execution_count": 2,
     "metadata": {},
     "output_type": "execute_result"
    }
   ],
   "source": [
    "env.max_objects"
   ]
  },
  {
   "cell_type": "code",
   "execution_count": 3,
   "metadata": {},
   "outputs": [
    {
     "name": "stdout",
     "output_type": "stream",
     "text": [
      "[Player at (78, 103), (9, 10), Ghost at (79, 57), (9, 10), Ghost at (79, 57), (9, 10), Ghost at (79, 57), (9, 10), Ghost at (79, 57), (9, 10)]\n",
      "[Player at (75, 99), (9, 10), Ghost at (75, 81), (9, 10), Ghost at (75, 81), (9, 10), Ghost at (75, 81), (9, 10), Ghost at (75, 51), (9, 10), PowerPill at (148, 146), (4, 7), PowerPill at (148, 14), (4, 7), PowerPill at (8, 147), (4, 7), PowerPill at (8, 15), (4, 7), Fruit at (125, 173), (9, 10), Score at (95, 187), (7, 7), Life at (12, 173), (7, 10), Life at (28, 173), (7, 10)]\n"
     ]
    }
   ],
   "source": [
    "print(env.objects)\n",
    "action = random.randint(0, env.nb_actions-1)\n",
    "obs, reward, terminated, truncated, info = env.step(action)\n",
    "print(env.objects)"
   ]
  },
  {
   "cell_type": "code",
   "execution_count": 4,
   "metadata": {},
   "outputs": [
    {
     "data": {
      "text/plain": [
       "[Player at (78, 103), (9, 10),\n",
       " Ghost at (79, 57), (9, 10),\n",
       " Ghost at (79, 57), (9, 10),\n",
       " Ghost at (79, 57), (9, 10),\n",
       " Ghost at (79, 57), (9, 10),\n",
       " PowerPill at (125, 173), (4, 7),\n",
       " PowerPill at (125, 173), (4, 7),\n",
       " PowerPill at (125, 173), (4, 7),\n",
       " PowerPill at (125, 173), (4, 7),\n",
       " Fruit at (125, 173), (9, 10),\n",
       " Score at (95, 187), (7, 7),\n",
       " Score at (95, 187), (7, 7),\n",
       " Score at (95, 187), (7, 7),\n",
       " Life at (12, 171), (7, 10),\n",
       " Life at (12, 171), (7, 10)]"
      ]
     },
     "execution_count": 4,
     "metadata": {},
     "output_type": "execute_result"
    }
   ],
   "source": [
    "env.max_objects"
   ]
  },
  {
   "cell_type": "code",
   "execution_count": 5,
   "metadata": {},
   "outputs": [
    {
     "data": {
      "text/plain": [
       "[Player at (75, 99), (9, 10),\n",
       " Ghost at (75, 81), (9, 10),\n",
       " Ghost at (75, 81), (9, 10),\n",
       " Ghost at (75, 81), (9, 10),\n",
       " Ghost at (75, 51), (9, 10),\n",
       " PowerPill at (148, 146), (4, 7),\n",
       " PowerPill at (148, 14), (4, 7),\n",
       " PowerPill at (8, 147), (4, 7),\n",
       " PowerPill at (8, 15), (4, 7),\n",
       " Fruit at (125, 173), (9, 10),\n",
       " Score at (95, 187), (7, 7),\n",
       " Life at (12, 173), (7, 10),\n",
       " Life at (28, 173), (7, 10)]"
      ]
     },
     "execution_count": 5,
     "metadata": {},
     "output_type": "execute_result"
    }
   ],
   "source": [
    "env.objects"
   ]
  },
  {
   "cell_type": "code",
   "execution_count": 6,
   "metadata": {},
   "outputs": [
    {
     "data": {
      "text/plain": [
       "{'rgb': (187, 187, 53),\n",
       " '_xy': (12, 171),\n",
       " 'wh': (7, 10),\n",
       " '_prev_xy': None,\n",
       " '_orientation': None,\n",
       " 'hud': True}"
      ]
     },
     "execution_count": 6,
     "metadata": {},
     "output_type": "execute_result"
    }
   ],
   "source": [
    "env.max_objects[-1].__dict__"
   ]
  },
  {
   "cell_type": "code",
   "execution_count": null,
   "metadata": {},
   "outputs": [],
   "source": []
  },
  {
   "cell_type": "code",
   "execution_count": null,
   "metadata": {},
   "outputs": [],
   "source": []
  },
  {
   "cell_type": "code",
   "execution_count": 1,
   "metadata": {},
   "outputs": [
    {
     "name": "stderr",
     "output_type": "stream",
     "text": [
      "/home/renos/rl/torchrl/data/replay_buffers/samplers.py:37: UserWarning: Failed to import torchrl C++ binaries. Some modules (eg, prioritized replay buffers) may not work with your installation. If you installed TorchRL from PyPI, please report the bug on TorchRL github. If you installed TorchRL locally and/or in development mode, check that you have all the required compiling packages.\n",
      "  warnings.warn(EXTENSION_WARNING)\n"
     ]
    },
    {
     "ename": "AttributeError",
     "evalue": "'str' object has no attribute 'max_objects'",
     "output_type": "error",
     "traceback": [
      "\u001b[0;31m---------------------------------------------------------------------------\u001b[0m",
      "\u001b[0;31mAttributeError\u001b[0m                            Traceback (most recent call last)",
      "Cell \u001b[0;32mIn[1], line 3\u001b[0m\n\u001b[1;32m      1\u001b[0m \u001b[38;5;28;01mfrom\u001b[39;00m \u001b[38;5;21;01mutils_atari\u001b[39;00m \u001b[38;5;28;01mimport\u001b[39;00m PositionHistoryEnv\n\u001b[1;32m      2\u001b[0m \u001b[38;5;28;01mimport\u001b[39;00m \u001b[38;5;21;01mrandom\u001b[39;00m\n\u001b[0;32m----> 3\u001b[0m env \u001b[38;5;241m=\u001b[39m \u001b[43mPositionHistoryEnv\u001b[49m\u001b[43m(\u001b[49m\u001b[38;5;124;43m\"\u001b[39;49m\u001b[38;5;124;43mMsPacmanNoFrameskip-v4\u001b[39;49m\u001b[38;5;124;43m\"\u001b[39;49m\u001b[43m)\u001b[49m\n\u001b[1;32m      4\u001b[0m obs, info \u001b[38;5;241m=\u001b[39m env\u001b[38;5;241m.\u001b[39mreset()\n\u001b[1;32m      5\u001b[0m action \u001b[38;5;241m=\u001b[39m random\u001b[38;5;241m.\u001b[39mrandint(\u001b[38;5;241m0\u001b[39m, \u001b[38;5;241m8\u001b[39m)\n",
      "File \u001b[0;32m~/rl-concepts/utils_atari.py:59\u001b[0m, in \u001b[0;36mPositionHistoryEnv.__init__\u001b[0;34m(self, env)\u001b[0m\n\u001b[1;32m     57\u001b[0m \u001b[38;5;28msuper\u001b[39m()\u001b[38;5;241m.\u001b[39m\u001b[38;5;21m__init__\u001b[39m(env)\n\u001b[1;32m     58\u001b[0m \u001b[38;5;28mself\u001b[39m\u001b[38;5;241m.\u001b[39mocatari_env \u001b[38;5;241m=\u001b[39m env\n\u001b[0;32m---> 59\u001b[0m \u001b[38;5;28mself\u001b[39m\u001b[38;5;241m.\u001b[39mreference_list \u001b[38;5;241m=\u001b[39m \u001b[38;5;28;43mself\u001b[39;49m\u001b[38;5;241;43m.\u001b[39;49m\u001b[43m_init_ref_vector\u001b[49m\u001b[43m(\u001b[49m\u001b[43m)\u001b[49m\n\u001b[1;32m     60\u001b[0m \u001b[38;5;28mself\u001b[39m\u001b[38;5;241m.\u001b[39mcurrent_vector \u001b[38;5;241m=\u001b[39m np\u001b[38;5;241m.\u001b[39mzeros(\n\u001b[1;32m     61\u001b[0m     (\u001b[38;5;241m1\u001b[39m, \u001b[38;5;241m4\u001b[39m \u001b[38;5;241m*\u001b[39m \u001b[38;5;28mlen\u001b[39m(\u001b[38;5;28mself\u001b[39m\u001b[38;5;241m.\u001b[39mreference_list)), dtype\u001b[38;5;241m=\u001b[39mnp\u001b[38;5;241m.\u001b[39mfloat32\n\u001b[1;32m     62\u001b[0m )\n",
      "File \u001b[0;32m~/rl-concepts/utils_atari.py:96\u001b[0m, in \u001b[0;36mPositionHistoryEnv._init_ref_vector\u001b[0;34m(self)\u001b[0m\n\u001b[1;32m     94\u001b[0m reference_list \u001b[38;5;241m=\u001b[39m []\n\u001b[1;32m     95\u001b[0m obj_counter \u001b[38;5;241m=\u001b[39m {}\n\u001b[0;32m---> 96\u001b[0m \u001b[38;5;28;01mfor\u001b[39;00m o \u001b[38;5;129;01min\u001b[39;00m \u001b[38;5;28;43mself\u001b[39;49m\u001b[38;5;241;43m.\u001b[39;49m\u001b[43mocatari_env\u001b[49m\u001b[38;5;241;43m.\u001b[39;49m\u001b[43mmax_objects\u001b[49m:\n\u001b[1;32m     97\u001b[0m     \u001b[38;5;28;01mif\u001b[39;00m o\u001b[38;5;241m.\u001b[39mcategory \u001b[38;5;129;01mnot\u001b[39;00m \u001b[38;5;129;01min\u001b[39;00m obj_counter\u001b[38;5;241m.\u001b[39mkeys():\n\u001b[1;32m     98\u001b[0m         obj_counter[o\u001b[38;5;241m.\u001b[39mcategory] \u001b[38;5;241m=\u001b[39m \u001b[38;5;241m0\u001b[39m\n",
      "\u001b[0;31mAttributeError\u001b[0m: 'str' object has no attribute 'max_objects'"
     ]
    }
   ],
   "source": [
    "from utils_atari import PositionHistoryEnv\n",
    "import random\n",
    "env = PositionHistoryEnv(\"MsPacmanNoFrameskip-v4\")\n",
    "obs, info = env.reset()\n",
    "action = random.randint(0, 8)\n",
    "for i in range(2):\n",
    "    obs, reward, terminated, truncated, info = env.step(action)\n"
   ]
  },
  {
   "cell_type": "code",
   "execution_count": null,
   "metadata": {},
   "outputs": [
    {
     "data": {
      "text/plain": [
       "array([ 75.,  99.,  75.,  99.,  75.,  81.,  75.,  81.,  75.,  81.,  75.,\n",
       "        81.,  75.,  81.,  75.,  81.,  75.,  51.,  75.,  51., 148., 146.,\n",
       "       148., 146., 148.,  14., 148.,  14.,   8., 147.,   8., 147.,   8.,\n",
       "        15.,   8.,  15., 125., 173., 125., 173.,  95., 187.,  95., 187.,\n",
       "         0.,   0.,   0.,   0.,   0.,   0.,   0.,   0.,  12., 173.,  12.,\n",
       "       173.,  28., 173.,  28., 173.], dtype=float32)"
      ]
     },
     "execution_count": 8,
     "metadata": {},
     "output_type": "execute_result"
    }
   ],
   "source": [
    "obs"
   ]
  },
  {
   "cell_type": "code",
   "execution_count": null,
   "metadata": {},
   "outputs": [],
   "source": []
  },
  {
   "cell_type": "code",
   "execution_count": null,
   "metadata": {},
   "outputs": [],
   "source": []
  },
  {
   "cell_type": "code",
   "execution_count": 1,
   "metadata": {},
   "outputs": [
    {
     "ename": "ModuleNotFoundError",
     "evalue": "No module named 'utils_atari'",
     "output_type": "error",
     "traceback": [
      "\u001b[0;31m---------------------------------------------------------------------------\u001b[0m",
      "\u001b[0;31mModuleNotFoundError\u001b[0m                       Traceback (most recent call last)",
      "Cell \u001b[0;32mIn[1], line 1\u001b[0m\n\u001b[0;32m----> 1\u001b[0m \u001b[38;5;28;01mfrom\u001b[39;00m \u001b[38;5;21;01mutils_atari\u001b[39;00m \u001b[38;5;28;01mimport\u001b[39;00m make_parallel_env\n\u001b[1;32m      3\u001b[0m tenv_1 \u001b[38;5;241m=\u001b[39m make_parallel_env(\u001b[38;5;124m\"\u001b[39m\u001b[38;5;124mMsPacmanNoFrameskip\u001b[39m\u001b[38;5;124m\"\u001b[39m, \u001b[38;5;241m1\u001b[39m, device\u001b[38;5;241m=\u001b[39m\u001b[38;5;124m'\u001b[39m\u001b[38;5;124mcpu\u001b[39m\u001b[38;5;124m'\u001b[39m)\n",
      "\u001b[0;31mModuleNotFoundError\u001b[0m: No module named 'utils_atari'"
     ]
    }
   ],
   "source": [
    "from utils_atari import make_parallel_env\n",
    "\n",
    "tenv_1 = make_parallel_env(\"MsPacmanNoFrameskip\", 1, device='cpu')"
   ]
  },
  {
   "cell_type": "code",
   "execution_count": 2,
   "metadata": {},
   "outputs": [
    {
     "data": {
      "text/plain": [
       "CompositeSpec(\n",
       "    observation: BoundedTensorSpec(\n",
       "        shape=torch.Size([1, 4, 112]),\n",
       "        space=ContinuousBox(\n",
       "            low=Tensor(shape=torch.Size([1, 4, 112]), device=cpu, dtype=torch.float32, contiguous=True),\n",
       "            high=Tensor(shape=torch.Size([1, 4, 112]), device=cpu, dtype=torch.float32, contiguous=True)),\n",
       "        device=cpu,\n",
       "        dtype=torch.float32,\n",
       "        domain=continuous),\n",
       "    pixels: UnboundedContinuousTensorSpec(\n",
       "        shape=torch.Size([1, 4, 84, 84]),\n",
       "        space=None,\n",
       "        device=cpu,\n",
       "        dtype=torch.float32,\n",
       "        domain=continuous),\n",
       "    end-of-life: DiscreteTensorSpec(\n",
       "        shape=torch.Size([1, 1]),\n",
       "        space=DiscreteBox(n=2),\n",
       "        device=cpu,\n",
       "        dtype=torch.bool,\n",
       "        domain=discrete),\n",
       "    lives: UnboundedDiscreteTensorSpec(\n",
       "        shape=torch.Size([1]),\n",
       "        space=ContinuousBox(\n",
       "            low=Tensor(shape=torch.Size([1]), device=cpu, dtype=torch.int64, contiguous=True),\n",
       "            high=Tensor(shape=torch.Size([1]), device=cpu, dtype=torch.int64, contiguous=True)),\n",
       "        device=cpu,\n",
       "        dtype=torch.int64,\n",
       "        domain=discrete),\n",
       "    episode_reward: UnboundedContinuousTensorSpec(\n",
       "        shape=torch.Size([1, 1]),\n",
       "        space=None,\n",
       "        device=cpu,\n",
       "        dtype=torch.float32,\n",
       "        domain=continuous),\n",
       "    step_count: BoundedTensorSpec(\n",
       "        shape=torch.Size([1, 1]),\n",
       "        space=ContinuousBox(\n",
       "            low=Tensor(shape=torch.Size([1, 1]), device=cpu, dtype=torch.int64, contiguous=True),\n",
       "            high=Tensor(shape=torch.Size([1, 1]), device=cpu, dtype=torch.int64, contiguous=True)),\n",
       "        device=cpu,\n",
       "        dtype=torch.int64,\n",
       "        domain=continuous), device=cpu, shape=torch.Size([1]))"
      ]
     },
     "execution_count": 2,
     "metadata": {},
     "output_type": "execute_result"
    }
   ],
   "source": [
    "tenv_1.observation_spec"
   ]
  },
  {
   "cell_type": "code",
   "execution_count": 2,
   "metadata": {},
   "outputs": [],
   "source": [
    "tenv_1.reset()\n",
    "tensordict = tenv_1.rollout(max_steps=20, policy=None)"
   ]
  },
  {
   "cell_type": "code",
   "execution_count": null,
   "metadata": {},
   "outputs": [
    {
     "data": {
      "text/plain": [
       "tensor(6.1560)"
      ]
     },
     "execution_count": 3,
     "metadata": {},
     "output_type": "execute_result"
    }
   ],
   "source": [
    "tensordict['pixels'][0,-1].sum()"
   ]
  },
  {
   "cell_type": "code",
   "execution_count": null,
   "metadata": {},
   "outputs": [
    {
     "data": {
      "text/plain": [
       "{'lives': 0,\n",
       " 'episode_frame_number': 2,\n",
       " 'frame_number': 2,\n",
       " 'ball_x': 0,\n",
       " 'ball_y': 0,\n",
       " 'enemy_y': 20,\n",
       " 'player_y': 106}"
      ]
     },
     "execution_count": 5,
     "metadata": {},
     "output_type": "execute_result"
    }
   ],
   "source": [
    "obs, reward, terminated, truncated, info = env.step(action)\n",
    "info"
   ]
  },
  {
   "cell_type": "code",
   "execution_count": null,
   "metadata": {},
   "outputs": [
    {
     "data": {
      "text/plain": [
       "(210, 160, 3)"
      ]
     },
     "execution_count": 6,
     "metadata": {},
     "output_type": "execute_result"
    }
   ],
   "source": [
    "obs.shape"
   ]
  },
  {
   "cell_type": "code",
   "execution_count": null,
   "metadata": {},
   "outputs": [
    {
     "name": "stderr",
     "output_type": "stream",
     "text": [
      "/home/renos/anaconda3/envs/torchrl2/lib/python3.9/site-packages/gymnasium/utils/passive_env_checker.py:335: UserWarning: \u001b[33mWARN: No render fps was declared in the environment (env.metadata['render_fps'] is None or not defined), rendering may occur at inconsistent fps.\u001b[0m\n",
      "  logger.warn(\n"
     ]
    }
   ],
   "source": [
    "\n",
    "from matplotlib.animation import FuncAnimation\n",
    "import matplotlib.pyplot as plt\n",
    "import numpy as np\n",
    "import random\n",
    "\n",
    "# Create a figure for plotting\n",
    "fig, ax = plt.subplots()\n",
    "\n",
    "# Function to update the plot with each frame\n",
    "def update(frame):\n",
    "    action = random.randint(0, env.nb_actions - 1)\n",
    "    obs, reward, terminated, truncated, info = env.step(action)\n",
    "    ax.clear()  # Clear previous frame\n",
    "    ax.axis('off')  # Hide axes\n",
    "    ax.imshow(env.render())  # Show current observation\n",
    "    return ax,\n",
    "\n",
    "# Create an animation\n",
    "ani = FuncAnimation(fig, update, frames=range(100), blit=False)\n",
    "\n",
    "plt.close(fig)  # Prevent displaying a static plot\n",
    "\n",
    "# Save the animation as an MP4 file\n",
    "ani.save('/home/renos/rl-concepts/env_animation_frames.mp4', writer='ffmpeg', dpi=80, fps=30)\n"
   ]
  },
  {
   "cell_type": "code",
   "execution_count": null,
   "metadata": {},
   "outputs": [
    {
     "data": {
      "text/html": [
       "<video src=\"/home/renos/rl-concepts/env_animation_frames.mp4\" controls  >\n",
       "      Your browser does not support the <code>video</code> element.\n",
       "    </video>"
      ],
      "text/plain": [
       "<IPython.core.display.Video object>"
      ]
     },
     "execution_count": 8,
     "metadata": {},
     "output_type": "execute_result"
    }
   ],
   "source": [
    "from IPython.display import Video\n",
    "\n",
    "# Display the video within the notebook\n",
    "Video('/home/renos/rl-concepts/env_animation_frames.mp4')"
   ]
  },
  {
   "cell_type": "code",
   "execution_count": null,
   "metadata": {},
   "outputs": [
    {
     "data": {
      "text/plain": [
       "6"
      ]
     },
     "execution_count": 9,
     "metadata": {},
     "output_type": "execute_result"
    }
   ],
   "source": [
    "env.nb_actions"
   ]
  }
 ],
 "metadata": {
  "kernelspec": {
   "display_name": "torchrl2",
   "language": "python",
   "name": "python3"
  },
  "language_info": {
   "codemirror_mode": {
    "name": "ipython",
    "version": 3
   },
   "file_extension": ".py",
   "mimetype": "text/x-python",
   "name": "python",
   "nbconvert_exporter": "python",
   "pygments_lexer": "ipython3",
   "version": "3.9.18"
  }
 },
 "nbformat": 4,
 "nbformat_minor": 2
}
